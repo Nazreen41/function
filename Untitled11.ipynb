{
 "cells": [
  {
   "cell_type": "code",
   "execution_count": 1,
   "id": "5efdbc22",
   "metadata": {},
   "outputs": [],
   "source": [
    "def greet_username(user):\n",
    "    print(f\" hell good to have you,{user.upper()}\" )\n",
    "    "
   ]
  },
  {
   "cell_type": "code",
   "execution_count": 2,
   "id": "009e3a26",
   "metadata": {},
   "outputs": [
    {
     "name": "stdout",
     "output_type": "stream",
     "text": [
      " hell good to have you,NAZREEN\n"
     ]
    }
   ],
   "source": [
    "greet_username('nazreen')"
   ]
  },
  {
   "cell_type": "code",
   "execution_count": 3,
   "id": "23721a5c",
   "metadata": {},
   "outputs": [],
   "source": [
    "def greet_username(name):\n",
    "    print(f\" hell good to have you,{name.title()}\" )\n",
    "    "
   ]
  },
  {
   "cell_type": "code",
   "execution_count": 4,
   "id": "365ded33",
   "metadata": {},
   "outputs": [
    {
     "name": "stdout",
     "output_type": "stream",
     "text": [
      " hell good to have you,Nazreen\n"
     ]
    }
   ],
   "source": [
    "greet_username('nazreen')"
   ]
  },
  {
   "cell_type": "code",
   "execution_count": 7,
   "id": "16dc2f2f",
   "metadata": {},
   "outputs": [],
   "source": [
    "def greet_favcolor(color):\n",
    "    print(f\" my fav color is,{color.lower()}\" )\n",
    "    "
   ]
  },
  {
   "cell_type": "code",
   "execution_count": 8,
   "id": "9b425fa8",
   "metadata": {},
   "outputs": [
    {
     "name": "stdout",
     "output_type": "stream",
     "text": [
      " my fav color is,white\n"
     ]
    }
   ],
   "source": [
    "greet_favcolor('white')"
   ]
  },
  {
   "cell_type": "code",
   "execution_count": 9,
   "id": "10169d8c",
   "metadata": {},
   "outputs": [],
   "source": [
    "def greet_username(user):\n",
    "    print(f\" hell good to have you,{user.upper()}\" )\n",
    "    "
   ]
  },
  {
   "cell_type": "code",
   "execution_count": 10,
   "id": "056c5f57",
   "metadata": {},
   "outputs": [
    {
     "name": "stdout",
     "output_type": "stream",
     "text": [
      " hell good to have you,ASIF\n",
      " hell good to have you,SWEETY\n",
      " hell good to have you,BABY\n"
     ]
    }
   ],
   "source": [
    "greet_username('asif')\n",
    "greet_username('sweety')\n",
    "greet_username('baby')"
   ]
  },
  {
   "cell_type": "code",
   "execution_count": 11,
   "id": "d168a8c4",
   "metadata": {},
   "outputs": [],
   "source": [
    "def greet_username(user,age):\n",
    "    print(f\" hell good to have you,{user.upper()} {age}\" )\n",
    "    "
   ]
  },
  {
   "cell_type": "code",
   "execution_count": 12,
   "id": "d1e3e0f4",
   "metadata": {},
   "outputs": [
    {
     "name": "stdout",
     "output_type": "stream",
     "text": [
      " hell good to have you,NAZZ 20\n"
     ]
    }
   ],
   "source": [
    "greet_username('nazz',20)"
   ]
  },
  {
   "cell_type": "code",
   "execution_count": 17,
   "id": "97acefe3",
   "metadata": {},
   "outputs": [],
   "source": [
    "def example():\n",
    "    f_name='nazreen'\n",
    "    l_name='mohammed'\n",
    "    print(f\" my complete name is {f_name} {l_name}\")"
   ]
  },
  {
   "cell_type": "code",
   "execution_count": 18,
   "id": "925bd8a2",
   "metadata": {},
   "outputs": [
    {
     "name": "stdout",
     "output_type": "stream",
     "text": [
      " my complete name is nazreen mohammed\n"
     ]
    }
   ],
   "source": [
    "example()"
   ]
  },
  {
   "cell_type": "code",
   "execution_count": 25,
   "id": "83d785df",
   "metadata": {},
   "outputs": [],
   "source": [
    "def exampl():\n",
    "    a='python'\n",
    "    b='learning'\n",
    "    print(f\" am interested in {a.title()} {b.title()}\")"
   ]
  },
  {
   "cell_type": "code",
   "execution_count": 26,
   "id": "050589af",
   "metadata": {},
   "outputs": [
    {
     "name": "stdout",
     "output_type": "stream",
     "text": [
      " am interested in Python Learning\n"
     ]
    }
   ],
   "source": [
    "exampl()"
   ]
  },
  {
   "cell_type": "markdown",
   "id": "9b2627fd",
   "metadata": {},
   "source": [
    "### positional arguments"
   ]
  },
  {
   "cell_type": "code",
   "execution_count": 30,
   "id": "f396d696",
   "metadata": {},
   "outputs": [],
   "source": [
    "def describe_pets(animal_type,pet_name):\n",
    "    print(f\" i have a {animal_type}\")\n",
    "    print(f\" my {animal_type}'s name is {pet_name}\")"
   ]
  },
  {
   "cell_type": "code",
   "execution_count": 31,
   "id": "8625e714",
   "metadata": {},
   "outputs": [
    {
     "name": "stdout",
     "output_type": "stream",
     "text": [
      " i have a cat\n",
      " my cat's name is dolly\n"
     ]
    }
   ],
   "source": [
    "describe_pets('cat','dolly')"
   ]
  },
  {
   "cell_type": "code",
   "execution_count": 34,
   "id": "82849851",
   "metadata": {},
   "outputs": [],
   "source": [
    "def describe_vegetable(veg_name ):\n",
    "    print(f\" i like to eat {veg_name}\")\n",
    "    "
   ]
  },
  {
   "cell_type": "code",
   "execution_count": 36,
   "id": "1320cf92",
   "metadata": {},
   "outputs": [
    {
     "name": "stdout",
     "output_type": "stream",
     "text": [
      " i like to eat potato\n"
     ]
    }
   ],
   "source": [
    "describe_vegetable('potato')"
   ]
  },
  {
   "cell_type": "code",
   "execution_count": 37,
   "id": "e42dc603",
   "metadata": {},
   "outputs": [],
   "source": [
    "def describe_pets(animal_type,pet_name):\n",
    "    print(f\" i have a {animal_type}\")\n",
    "    print(f\" my {animal_type}'s name is {pet_name}\")"
   ]
  },
  {
   "cell_type": "code",
   "execution_count": 39,
   "id": "082afbb5",
   "metadata": {},
   "outputs": [
    {
     "name": "stdout",
     "output_type": "stream",
     "text": [
      " i have a dog\n",
      " my dog's name is kala\n"
     ]
    }
   ],
   "source": [
    "describe_pets('dog','kala')"
   ]
  },
  {
   "cell_type": "code",
   "execution_count": 46,
   "id": "fcd0eb31",
   "metadata": {},
   "outputs": [],
   "source": [
    "def describe_chocolates(chocolate_name,chocolate_flavour):\n",
    "    print(f\" my fav chocolote is {chocolate_name}\")\n",
    "    print(f\" my fav flavour is {chocolate_flavour}\")"
   ]
  },
  {
   "cell_type": "code",
   "execution_count": 47,
   "id": "d7545deb",
   "metadata": {},
   "outputs": [
    {
     "name": "stdout",
     "output_type": "stream",
     "text": [
      " my fav chocolote is dairymilk\n",
      " my fav flavour is vennela\n"
     ]
    }
   ],
   "source": [
    "describe_chocolates('dairymilk','vennela')"
   ]
  },
  {
   "cell_type": "code",
   "execution_count": 53,
   "id": "2d0bef69",
   "metadata": {},
   "outputs": [],
   "source": [
    " def describe_pets(animal_type,pet_name):\n",
    "        print(f\" i have a {animal_type}\")\n",
    "        print(f\" my {animal_type}'s name is {pet_name}\")"
   ]
  },
  {
   "cell_type": "code",
   "execution_count": 54,
   "id": "01292795",
   "metadata": {},
   "outputs": [
    {
     "name": "stdout",
     "output_type": "stream",
     "text": [
      " i have a rabbit\n",
      " my rabbit's name is chinni\n"
     ]
    }
   ],
   "source": [
    "describe_pets(animal_type='rabbit' ,pet_name='chinni')"
   ]
  },
  {
   "cell_type": "code",
   "execution_count": 55,
   "id": "ee01c71b",
   "metadata": {},
   "outputs": [],
   "source": [
    "def describe_pets(animal_type,pet_name):\n",
    "    print(f\" i have a {animal_type}\")\n",
    "    print(f\" my {animal_type}'s name is {pet_name}\")"
   ]
  },
  {
   "cell_type": "code",
   "execution_count": 56,
   "id": "cec75048",
   "metadata": {},
   "outputs": [
    {
     "name": "stdout",
     "output_type": "stream",
     "text": [
      " i have a cat\n",
      " my cat's name is meow\n"
     ]
    }
   ],
   "source": [
    "describe_pets(animal_type='cat' ,pet_name='meow')"
   ]
  },
  {
   "cell_type": "code",
   "execution_count": 67,
   "id": "15c9a6c7",
   "metadata": {},
   "outputs": [],
   "source": [
    "def describe_pets(animal_type='cat',pet_name='kitty', animal_color='black',animal_age=5):\n",
    "    print(f\" i have a {animal_type}\")\n",
    "    print(f\" my {animal_type}'s name is {pet_name}\")\n",
    "    print(f\" pet color is {animal_color}\")"
   ]
  },
  {
   "cell_type": "code",
   "execution_count": 68,
   "id": "d0fb03b4",
   "metadata": {},
   "outputs": [
    {
     "name": "stdout",
     "output_type": "stream",
     "text": [
      " i have a cat\n",
      " my cat's name is kitty\n",
      " pet color is black\n"
     ]
    }
   ],
   "source": [
    "describe_pets()"
   ]
  },
  {
   "cell_type": "code",
   "execution_count": 73,
   "id": "1467d913",
   "metadata": {},
   "outputs": [],
   "source": [
    "def make_sadwich(item1,item2,item3):\n",
    "    print('sadwich preparing for you')\n",
    "    print(f\" adding of {item1} to your sadwich\")\n",
    "    print(f\" adding of {item2} to your sadwich\")\n",
    "    print(f\" addibg of {item3} to your sadwich\")\n",
    "    print('your sadwich is prepared')"
   ]
  },
  {
   "cell_type": "code",
   "execution_count": 75,
   "id": "0c548715",
   "metadata": {},
   "outputs": [
    {
     "name": "stdout",
     "output_type": "stream",
     "text": [
      "sadwich preparing for you\n",
      " adding of cheese to your sadwich\n",
      " adding of bread to your sadwich\n",
      " addibg of onion to your sadwich\n",
      "your sadwich is prepared\n",
      "sadwich preparing for you\n",
      " adding of honey to your sadwich\n",
      " adding of veg to your sadwich\n",
      " addibg of bread to your sadwich\n",
      "your sadwich is prepared\n",
      "sadwich preparing for you\n",
      " adding of bread to your sadwich\n",
      " adding of chicken to your sadwich\n",
      " addibg of cheese to your sadwich\n",
      "your sadwich is prepared\n"
     ]
    }
   ],
   "source": [
    "make_sadwich('cheese','bread','onion')\n",
    "make_sadwich('honey','veg','bread')\n",
    "make_sadwich('bread','chicken','cheese')"
   ]
  },
  {
   "cell_type": "code",
   "execution_count": 77,
   "id": "30673361",
   "metadata": {},
   "outputs": [],
   "source": [
    "def greet(*msg):\n",
    "    for x in msg:\n",
    "        print(x)"
   ]
  },
  {
   "cell_type": "code",
   "execution_count": 78,
   "id": "1f3c6c73",
   "metadata": {},
   "outputs": [
    {
     "name": "stdout",
     "output_type": "stream",
     "text": [
      "hello\n",
      "am\n",
      "nazz\n",
      "how\n",
      "are\n",
      "u\n"
     ]
    }
   ],
   "source": [
    "greet('hello','am','nazz','how','are','u')"
   ]
  },
  {
   "cell_type": "code",
   "execution_count": 79,
   "id": "1d022455",
   "metadata": {},
   "outputs": [
    {
     "name": "stdout",
     "output_type": "stream",
     "text": [
      "\n",
      "hello\n",
      "\n",
      "am\n",
      "\n",
      "nazz\n",
      "\n",
      "how\n",
      "\n",
      "are\n",
      "\n",
      "u\n"
     ]
    }
   ],
   "source": [
    "greet('\\nhello','\\nam','\\nnazz','\\nhow','\\nare','\\nu')"
   ]
  },
  {
   "cell_type": "code",
   "execution_count": null,
   "id": "ce418add",
   "metadata": {},
   "outputs": [],
   "source": []
  }
 ],
 "metadata": {
  "kernelspec": {
   "display_name": "Python 3",
   "language": "python",
   "name": "python3"
  },
  "language_info": {
   "codemirror_mode": {
    "name": "ipython",
    "version": 3
   },
   "file_extension": ".py",
   "mimetype": "text/x-python",
   "name": "python",
   "nbconvert_exporter": "python",
   "pygments_lexer": "ipython3",
   "version": "3.8.8"
  }
 },
 "nbformat": 4,
 "nbformat_minor": 5
}
